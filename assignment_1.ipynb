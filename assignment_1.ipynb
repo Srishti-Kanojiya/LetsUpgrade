{
  "nbformat": 4,
  "nbformat_minor": 0,
  "metadata": {
    "colab": {
      "name": "srishti_assignment_1.ipynb",
      "provenance": []
    },
    "kernelspec": {
      "name": "python3",
      "display_name": "Python 3"
    },
    "language_info": {
      "name": "python"
    }
  },
  "cells": [
    {
      "cell_type": "markdown",
      "metadata": {
        "id": "1FHECOHeVLD8"
      },
      "source": [
        "##Code to calculate simple interest. <br />\n",
        "\n",
        "by Srishti <br />\n",
        "date September 20, 2021 <br />\n",
        "time 11:46 PM"
      ]
    },
    {
      "cell_type": "code",
      "metadata": {
        "colab": {
          "base_uri": "https://localhost:8080/"
        },
        "id": "466hG8fKVSh5",
        "outputId": "2b7ef294-0bae-469b-851c-bf22144ec8c6"
      },
      "source": [
        "#taking input (e.g: 500,2,10).\n",
        "principle, interest, rate = map(int, input('Enter principle, interest and rate respectively: ').split(\",\"))"
      ],
      "execution_count": 14,
      "outputs": [
        {
          "name": "stdout",
          "output_type": "stream",
          "text": [
            "Enter principle, interest and rate respectively: 500,2,10\n"
          ]
        },
        {
          "output_type": "execute_result",
          "data": {
            "text/plain": [
              "int"
            ]
          },
          "metadata": {},
          "execution_count": 14
        }
      ]
    },
    {
      "cell_type": "code",
      "metadata": {
        "colab": {
          "base_uri": "https://localhost:8080/"
        },
        "id": "L5eBBrDTYkg_",
        "outputId": "fcb3195f-ad26-4752-db5e-a57a21245bbf"
      },
      "source": [
        "#calculating simple interest.\n",
        "simple_interest = (principle * interest * rate)/100\n",
        "\n",
        "#displaying the result.\n",
        "print(\"Simple interest for principle = {}, interest = {} and rate = {} is: \".format(principle, interest, rate), simple_interest)"
      ],
      "execution_count": 16,
      "outputs": [
        {
          "output_type": "stream",
          "name": "stdout",
          "text": [
            "Simple interest for principle = 500, interest = 2 and rate = 10 is:  100.0\n"
          ]
        }
      ]
    }
  ]
}